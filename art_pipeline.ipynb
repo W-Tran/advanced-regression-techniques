{
 "cells": [
  {
   "cell_type": "markdown",
   "metadata": {},
   "source": [
    "# Full Data Preprocessing Pipeline\n",
    "\n",
    "Built using [feature-engine](https://feature-engine.readthedocs.io/en/latest/) and Scikit-Learn transformers"
   ]
  },
  {
   "cell_type": "markdown",
   "metadata": {},
   "source": [
    "<br>\n",
    "<br>"
   ]
  },
  {
   "cell_type": "code",
   "execution_count": 1,
   "metadata": {},
   "outputs": [],
   "source": [
    "from datetime import datetime\n",
    "import pandas as pd\n",
    "import numpy as np\n",
    "import matplotlib.pyplot as plt\n",
    "from scipy.stats import skew, probplot\n",
    "import seaborn as sns\n",
    "plt.rcParams.update({'figure.max_open_warning': 0})\n",
    "\n",
    "\n",
    "# for the model\n",
    "from sklearn.model_selection import GridSearchCV\n",
    "from sklearn.linear_model import Lasso, LinearRegression\n",
    "from sklearn.pipeline import Pipeline\n",
    "from sklearn.metrics import mean_squared_error, r2_score\n",
    "\n",
    "# for feature engineering\n",
    "from feature_engine import missing_data_imputers as mdi\n",
    "from feature_engine import categorical_encoders as ce\n",
    "from feature_engine.outlier_removers import Winsorizer\n",
    "from feature_engine import variable_transformers as vt\n",
    "from feature_engine.discretisers import EqualFrequencyDiscretiser\n",
    "\n",
    "from sklearn.compose import ColumnTransformer\n",
    "from sklearn.preprocessing import StandardScaler, PowerTransformer, FunctionTransformer, KBinsDiscretizer\n",
    "from sklearn.pipeline import Pipeline\n",
    "from sklearn.impute import SimpleImputer\n",
    "from sklearn.feature_selection import VarianceThreshold\n",
    "from sklearn.base import BaseEstimator, TransformerMixin, clone\n",
    "\n",
    "from mlxtend.feature_selection import SequentialFeatureSelector as SFS\n",
    "\n",
    "pd.options.display.max_rows = 999\n",
    "pd.options.display.max_columns = 999"
   ]
  },
  {
   "cell_type": "markdown",
   "metadata": {},
   "source": [
    "<br>\n",
    "<br>"
   ]
  },
  {
   "cell_type": "markdown",
   "metadata": {},
   "source": [
    "**Feature lists and Custom Transformers**"
   ]
  },
  {
   "cell_type": "code",
   "execution_count": 2,
   "metadata": {},
   "outputs": [],
   "source": [
    "garage_categoric = [\"GarageType\", \"GarageFinish\", \"GarageQual\", \"GarageCond\"]\n",
    "garage_numeric = [\"GarageYrBlt\", \"GarageCars\", \"GarageArea\"]\n",
    "bsmt_categoric = [\"BsmtQual\", \"BsmtCond\", \"BsmtExposure\", \"BsmtFinType1\", \"BsmtFinType2\"]\n",
    "bsmt_numeric = [\"BsmtFinSF1\", \"BsmtFinSF2\", \"BsmtUnfSF\", \"TotalBsmtSF\", \"BsmtHalfBath\", \"BsmtFullBath\"]\n",
    "other_categoric = [\"PoolQC\", \"MiscFeature\", \"Alley\", \"Fence\", \"FireplaceQu\", \"MasVnrType\"]\n",
    "other_numeric = [\"MasVnrArea\"]\n",
    "mcar_categoric = [\"Electrical\", \"MSZoning\", \"Functional\", \"Utilities\", \"SaleType\", \"KitchenQual\", \"Exterior1st\", \"Exterior2nd\"]\n",
    "\n",
    "feats_to_coerce = [\"MSSubClass\", \"MoSold\", \"YrSold\", \"BsmtFullBath\", \"BsmtHalfBath\", \"GarageYrBlt\"]\n",
    "\n",
    "cat_ordinal_feats = [\"Alley\", \"LandSlope\", \"LotShape\", \"LandContour\", \"BsmtFullBath\", \"BsmtHalfBath\",\n",
    "                 \"ExterQual\", \"ExterCond\", \"BsmtQual\", \"BsmtCond\", \"BsmtExposure\", \"KitchenAbvGr\",\n",
    "                 \"BsmtFinType1\", \"BsmtFinType2\", \"HeatingQC\", \"KitchenQual\", \"Functional\",\n",
    "                 \"FireplaceQu\", \"GarageFinish\", \"GarageQual\", \"GarageCond\", \"PavedDrive\", \"PoolQC\"]\n",
    "\n",
    "cat_nominal_feats = [\"HouseStyle\", \"MSZoning\", \"LotConfig\", \"Neighborhood\", \"Condition1\", \"GarageYrBlt\",\n",
    "                     \"Condition2\", \"BldgType\", \"RoofStyle\", \"RoofMatl\", \"Exterior1st\", \"Exterior2nd\",\n",
    "                     \"MasVnrType\", \"Foundation\", \"Heating\", \"CentralAir\", \"Electrical\", \"GarageType\", \"Fence\",\n",
    "                     \"MiscFeature\", \"SaleType\", \"SaleCondition\", \"MSSubClass\", \"MoSold\", \"YrSold\"]\n",
    "\n",
    "discretise_feats = [\"MasVnrArea\", \"BsmtFinSF1\", \"BsmtFinSF2\", \"LowQualFinSF\", \"WoodDeckSF\", \"OpenPorchSF\", \"EnclosedPorch\", \"3SsnPorch\", \"ScreenPorch\", \"PoolArea\", \"MiscVal\"]\n",
    "\n",
    "class DropColumns(BaseEstimator, TransformerMixin):\n",
    "\n",
    "    def __init__(self, variables=[]):\n",
    "        self.variables = variables\n",
    "    \n",
    "    def fit(self, X, y=None):\n",
    "        return self\n",
    "    \n",
    "    def transform(self, X, y=None):\n",
    "        X_copy = X.copy()\n",
    "        return X_copy.drop(columns=self.variables)\n",
    "    \n",
    "def rare_categories(df, num_levels=[0,2], print_percentage=False, plot=False):\n",
    "    multi_cat_cols = []\n",
    "    for col in df.columns:\n",
    "        if df[col].dtypes =='object':\n",
    "            if num_levels[0] <= df[col].nunique() <= num_levels[1]:\n",
    "                multi_cat_cols.append(col)\n",
    "                if print_percentage:\n",
    "                    print(train_df.groupby(col)[col].count().sort_values(ascending=False) / len(train_df))\n",
    "                    print()\n",
    "    \n",
    "    if plot:\n",
    "        for col in multi_cat_cols:\n",
    "            temp_df = pd.Series(df[col].value_counts() / len(df))\n",
    "            fig = temp_df.sort_values(ascending=False).plot.bar()\n",
    "            fig.set_xlabel(col)\n",
    "            fig.axhline(y=0.05, color='red')\n",
    "            fig.set_ylabel('Percentage of houses')\n",
    "            plt.show()\n",
    "            \n",
    "    return multi_cat_cols\n",
    "\n",
    "class ConvertDtype(BaseEstimator, TransformerMixin):\n",
    "    def __init__(self, dtype=str, variables=[]):\n",
    "        self.variables = variables\n",
    "        self.dtype = dtype\n",
    "    def fit(self, X, y=None):\n",
    "        return self\n",
    "    def transform(self, X, y=None):\n",
    "        X_copy = X.copy()\n",
    "        X_copy[self.variables] = X_copy[self.variables].astype(self.dtype)\n",
    "        return X_copy\n",
    "\n",
    "class DropQuasiConstant(BaseEstimator, TransformerMixin):\n",
    "    def __init__(self, threshold=0.998):\n",
    "        self.threshold = threshold\n",
    "    def fit(self, X, y=None):\n",
    "        self.quasi_const_feats = []\n",
    "        for feature in X.columns:\n",
    "            # find the predominant value\n",
    "            predominant = (X[feature].value_counts() / np.float(\n",
    "                len(X))).sort_values(ascending=False).values[0]\n",
    "\n",
    "            # evaluate predominant feature\n",
    "            if predominant > self.threshold:\n",
    "                self.quasi_const_feats.append(feature)\n",
    "        return self\n",
    "    def transform(self, X, y=None):\n",
    "        X_copy = X.copy()\n",
    "        return X_copy.drop(columns=self.quasi_const_feats)\n",
    "    \n",
    "class RareCategories(BaseEstimator, TransformerMixin):\n",
    "    def __init__(self, num_levels=[3,100], tol=0.01, n_categories=4):\n",
    "        self.num_levels = num_levels\n",
    "        self.tol = tol\n",
    "        self.n_categories = n_categories\n",
    "    def fit(self, X, y=None):\n",
    "        self.rare_cats = rare_categories(X, self.num_levels)\n",
    "        self.encoder = ce.RareLabelCategoricalEncoder(\n",
    "            tol=self.tol,\n",
    "            n_categories=self.n_categories,\n",
    "            variables=self.rare_cats\n",
    "        )\n",
    "        self.encoder.fit(X)\n",
    "        return self\n",
    "    def transform(self, X, y=None):\n",
    "        X_copy = X.copy()\n",
    "        return self.encoder.transform(X)\n",
    "    \n",
    "class DropPoints(BaseEstimator, TransformerMixin):\n",
    "    def __init__(self, idx=[1298, 523, 30, 632, 812, 495]):\n",
    "        self.idx = idx\n",
    "    def fit(self, X, y=None):\n",
    "        return self\n",
    "    def transform(self, X, y=None):\n",
    "        X_copy = X.copy()\n",
    "        return X_copy.drop(self.idx)\n",
    "    \n",
    "class GetFeatNames(BaseEstimator, TransformerMixin):\n",
    "    def __init__(self):\n",
    "        pass\n",
    "    def fit(self, X, y=None):\n",
    "        self.feat_names = list(X.columns)\n",
    "        return self\n",
    "    def transform(self, X, y=None):\n",
    "        X_copy = X.copy()\n",
    "        return X_copy"
   ]
  },
  {
   "cell_type": "markdown",
   "metadata": {},
   "source": [
    "<br>\n",
    "<br>"
   ]
  },
  {
   "cell_type": "markdown",
   "metadata": {},
   "source": [
    "## Build data preprocessing pipeline"
   ]
  },
  {
   "cell_type": "code",
   "execution_count": 3,
   "metadata": {},
   "outputs": [],
   "source": [
    "house_pipe = Pipeline([\n",
    "    # Missing data\n",
    "    ('mnar_cat_imp', mdi.CategoricalVariableImputer(\n",
    "        variables=garage_categoric+bsmt_categoric+other_categoric)),\n",
    "    ('mnar_num_imp', mdi.ArbitraryNumberImputer(\n",
    "        arbitrary_number=0,\n",
    "        variables=garage_numeric+bsmt_numeric+other_numeric)),\n",
    "    ('mcar_cat_imp', mdi.FrequentCategoryImputer(\n",
    "        variables=mcar_categoric)),\n",
    "    ('lotfrontage_ind', mdi.AddNaNBinaryImputer(\n",
    "        variables=[\"LotFrontage\"])),\n",
    "    ('lotfrontage_imp', mdi.RandomSampleImputer(\n",
    "        random_state=20, \n",
    "        variables=[\"LotFrontage\"])),\n",
    "\n",
    "    # categorical encoding\n",
    "    ('to_int', ConvertDtype(\n",
    "        dtype=int,\n",
    "        variables=feats_to_coerce)),\n",
    "    ('to_str1', ConvertDtype(\n",
    "        dtype=str,\n",
    "        variables=cat_ordinal_feats+cat_nominal_feats)),\n",
    "    ('drop_cols', DropColumns(\n",
    "        variables=['Street', 'Utilities'])),\n",
    "    ('rare_enc', RareCategories(\n",
    "        num_levels=[3,100])),\n",
    "    ('mean_enc', ce.MeanCategoricalEncoder(\n",
    "        variables=cat_ordinal_feats)),\n",
    "    ('ordered_int_enc', ce.OrdinalCategoricalEncoder(\n",
    "        encoding_method='ordered', \n",
    "        variables=cat_nominal_feats)),\n",
    "    \n",
    "    # Feature transformation\n",
    "    ('yj_transf', vt.YeoJohnsonTransformer(\n",
    "        variables=[\"LotFrontage\", \"LotArea\", \"TotalBsmtSF\", \"1stFlrSF\", \"GrLivArea\"])),\n",
    "    ('discretise', EqualFrequencyDiscretiser(\n",
    "        q=10, \n",
    "        variables=discretise_feats)),\n",
    "    ('to_str', ConvertDtype(\n",
    "        dtype=str,\n",
    "        variables=discretise_feats)),\n",
    "    ('mean_discr_enc', ce.MeanCategoricalEncoder(\n",
    "        variables=discretise_feats)),\n",
    "    \n",
    "    # Drop Quasi-Constant features\n",
    "    ('drop_quasi_const', DropQuasiConstant(\n",
    "        threshold=0.998)),\n",
    "    \n",
    "    # Drop Correlated features\n",
    "    ('drop_corr', DropColumns(\n",
    "        variables=['Exterior2nd', 'GarageCars', 'GarageQual'])),\n",
    "    \n",
    "    # Drop Influential Points\n",
    "    ('drop_infl', DropPoints(\n",
    "        idx=[1298, 523, 30, 632, 812, 495]\n",
    "    )),\n",
    "    \n",
    "    # Get final feature names\n",
    "    ('feat_names', GetFeatNames()),\n",
    "    \n",
    "    # Perform scaling\n",
    "    ('scaler', StandardScaler()),\n",
    "    \n",
    "\n",
    "])"
   ]
  },
  {
   "cell_type": "markdown",
   "metadata": {},
   "source": [
    "<br>\n",
    "<br>"
   ]
  },
  {
   "cell_type": "markdown",
   "metadata": {},
   "source": [
    "## Apply data preprocessing pipeline"
   ]
  },
  {
   "cell_type": "code",
   "execution_count": 4,
   "metadata": {},
   "outputs": [],
   "source": [
    "train_df = pd.read_csv(\"data/train.csv\")\n",
    "train_labels = train_df[[\"SalePrice\"]].copy()\n",
    "train_df.drop(columns=[\"Id\", \"SalePrice\"], inplace=True)\n",
    "test_df = pd.read_csv(\"data/test.csv\")\n",
    "test_id = test_df[[\"Id\"]].copy()\n",
    "test_df.drop(columns=\"Id\", inplace=True)\n",
    "\n",
    "# Fit the pipeline\n",
    "X_train = house_pipe.fit_transform(train_df, train_labels)\n",
    "X_test = house_pipe.transform(test_df)\n",
    "\n",
    "# Drop influential points from labels\n",
    "train_labels.drop(house_pipe.named_steps['drop_infl'].idx, inplace=True)\n",
    "# Log transform response\n",
    "train_labels['SalePrice'] = np.log(train_labels['SalePrice'])\n",
    "y_train = train_labels.values"
   ]
  },
  {
   "cell_type": "markdown",
   "metadata": {},
   "source": [
    "<br>\n",
    "<br>"
   ]
  },
  {
   "cell_type": "markdown",
   "metadata": {},
   "source": [
    "## Model Tuning/Feature Selection"
   ]
  },
  {
   "cell_type": "markdown",
   "metadata": {},
   "source": [
    "**Lasso**"
   ]
  },
  {
   "cell_type": "code",
   "execution_count": 6,
   "metadata": {},
   "outputs": [
    {
     "name": "stdout",
     "output_type": "stream",
     "text": [
      "Best param: {'alpha': 0.002256230462970635}\n",
      "Best MSE: -0.011751052559521757\n",
      "Best RMSE: 0.10840227192970522\n"
     ]
    },
    {
     "data": {
      "image/png": "[encoded data removed]",
      "text/plain": [
       "<Figure size 432x288 with 1 Axes>"
      ]
     },
     "metadata": {
      "needs_background": "light"
     },
     "output_type": "display_data"
    }
   ],
   "source": [
    "lasso_gs = GridSearchCV(\n",
    "    Lasso(max_iter=10000),\n",
    "    {'alpha':np.logspace(-4,-1, 400)},\n",
    "    'neg_mean_squared_error',\n",
    "    n_jobs=4,\n",
    "    cv=5,\n",
    ")\n",
    "best_lasso = lasso_gs.fit(X_train, y_train)\n",
    "lasso_cv_scores = pd.DataFrame(best_lasso.cv_results_)\n",
    "\n",
    "print(\"Best param:\",best_lasso.best_params_)\n",
    "print(\"Best MSE:\",best_lasso.best_score_)\n",
    "print(\"Best RMSE:\",np.sqrt(-best_lasso.best_score_))\n",
    "\n",
    "alpha = lasso_cv_scores.param_alpha.values\n",
    "cv_score = lasso_cv_scores.mean_test_score.values\n",
    "\n",
    "plt.yscale(\"linear\")\n",
    "plt.xscale(\"log\")\n",
    "plt.plot(alpha, np.sqrt(-cv_score))\n",
    "plt.xlabel(\"alpha\")\n",
    "plt.ylabel(\"Average CV RMSE\");"
   ]
  },
  {
   "cell_type": "code",
   "execution_count": 7,
   "metadata": {},
   "outputs": [
    {
     "name": "stdout",
     "output_type": "stream",
     "text": [
      "51 features chosen by Lasso\n",
      "['GrLivArea', 'OverallQual', '1stFlrSF', 'OverallCond', 'TotalBsmtSF', '2ndFlrSF', 'Neighborhood', 'YearBuilt', 'LotArea', 'GarageArea', 'KitchenQual', 'SaleCondition', 'Functional', 'BsmtQual', 'Condition1', 'BsmtExposure', 'MSZoning', 'Fireplaces', 'KitchenAbvGr', 'ExterQual', 'BsmtFinSF1', 'HeatingQC', 'CentralAir', 'BsmtFullBath', 'FireplaceQu', 'GarageYrBlt', 'HalfBath', 'SaleType', 'FullBath', 'GarageCond', 'WoodDeckSF', 'Foundation', 'LotConfig', 'MSSubClass', 'YearRemodAdd', 'RoofStyle', 'MasVnrType', 'GarageFinish', 'OpenPorchSF', 'PoolQC', 'Exterior1st', 'PavedDrive', 'LotFrontage', 'BsmtFinSF2', 'Alley', 'ExterCond', 'Heating', 'LandContour', 'EnclosedPorch', 'MoSold', 'BsmtUnfSF']\n"
     ]
    }
   ],
   "source": [
    "feat_names = house_pipe.named_steps['feat_names'].feat_names\n",
    "lasso_coefs = sorted(list(zip(feat_names, best_lasso.best_estimator_.coef_)), \n",
    "               key=lambda x: x[1], \n",
    "               reverse=True)\n",
    "print(\"{} features chosen by Lasso\".format(np.sum(best_lasso.best_estimator_.coef_!=0)))\n",
    "print([feat[0] for feat in lasso_coefs if feat[1]!=0])"
   ]
  },
  {
   "cell_type": "markdown",
   "metadata": {},
   "source": [
    "<br>\n",
    "<br"
   ]
  },
  {
   "cell_type": "markdown",
   "metadata": {},
   "source": [
    "**SFS**"
   ]
  },
  {
   "cell_type": "code",
   "execution_count": 8,
   "metadata": {
    "scrolled": true
   },
   "outputs": [
    {
     "name": "stdout",
     "output_type": "stream",
     "text": [
      "23 features chosen by SFS\n",
      "Selected features: ('MSZoning', 'LotArea', 'Neighborhood', 'Condition1', 'OverallQual', 'OverallCond', 'YearBuilt', 'BsmtQual', 'BsmtExposure', 'BsmtUnfSF', 'TotalBsmtSF', 'HeatingQC', 'CentralAir', '1stFlrSF', '2ndFlrSF', 'GrLivArea', 'KitchenAbvGr', 'KitchenQual', 'Functional', 'FireplaceQu', 'GarageYrBlt', 'GarageArea', 'SaleCondition')\n",
      "\n",
      "Best score: 0.10629260616071375\n"
     ]
    }
   ],
   "source": [
    "sfs = SFS(LinearRegression(), \n",
    "          k_features='parsimonious', \n",
    "          forward=True, \n",
    "          floating=False,\n",
    "          verbose=0,\n",
    "          scoring='neg_mean_squared_error',\n",
    "          cv=10,\n",
    "          n_jobs=5\n",
    "         )\n",
    "\n",
    "feat_names = house_pipe.named_steps['feat_names'].feat_names\n",
    "sfs = sfs.fit(X_train, y_train, custom_feature_names=feat_names)\n",
    "\n",
    "print(\"{} features chosen by SFS\".format(len(sfs.k_feature_names_)))\n",
    "print(\"Selected features: {}\\n\".format(sfs.k_feature_names_))\n",
    "print(\"Best score: {}\".format(np.sqrt(-sfs.k_score_)))"
   ]
  },
  {
   "cell_type": "code",
   "execution_count": 11,
   "metadata": {},
   "outputs": [],
   "source": [
    "X_train = sfs.transform(X_train)\n",
    "X_test = sfs.transform(X_test)"
   ]
  },
  {
   "cell_type": "markdown",
   "metadata": {},
   "source": [
    "<br>\n",
    "<br>"
   ]
  },
  {
   "cell_type": "markdown",
   "metadata": {},
   "source": [
    "## Get submission"
   ]
  },
  {
   "cell_type": "code",
   "execution_count": 31,
   "metadata": {},
   "outputs": [],
   "source": [
    "# lasso = Lasso(**best_lasso.best_params_, max_iter=10000)\n",
    "# lasso.fit(train_df, train_labels)\n",
    "# y_test_pred = lasso.predict(test_df)\n",
    "\n",
    "lin_regr = LinearRegression()\n",
    "lin_regr.fit(X_train, y_train)\n",
    "y_test_pred = lin_regr.predict(X_test)\n",
    "\n",
    "today = datetime.today()\n",
    "submission_df = test_id.copy()\n",
    "submission_df['SalePrice'] = np.exp(y_test_pred)\n",
    "\n",
    "submission_df.to_csv(f\"{today.year}{today.month}{today.day}_attempt3.csv\", index=False)"
   ]
  },
  {
   "cell_type": "markdown",
   "metadata": {},
   "source": [
    "**Submission history**\n",
    "\n",
    "1.  **0.12556**\n",
    "2. **0.12226**, drop influential points\n",
    "3. **0.12232**, (2) & Linear Regression SFS"
   ]
  }
 ],
 "metadata": {
  "kernelspec": {
   "display_name": "Python 3",
   "language": "python",
   "name": "python3"
  },
  "language_info": {
   "codemirror_mode": {
    "name": "ipython",
    "version": 3
   },
   "file_extension": ".py",
   "mimetype": "text/x-python",
   "name": "python",
   "nbconvert_exporter": "python",
   "pygments_lexer": "ipython3",
   "version": "3.7.4"
  },
  "varInspector": {
   "cols": {
    "lenName": 16,
    "lenType": 16,
    "lenVar": 40
   },
   "kernels_config": {
    "python": {
     "delete_cmd_postfix": "",
     "delete_cmd_prefix": "del ",
     "library": "var_list.py",
     "varRefreshCmd": "print(var_dic_list())"
    },
    "r": {
     "delete_cmd_postfix": ") ",
     "delete_cmd_prefix": "rm(",
     "library": "var_list.r",
     "varRefreshCmd": "cat(var_dic_list()) "
    }
   },
   "oldHeight": 122.85,
   "position": {
    "height": "40px",
    "left": "636px",
    "right": "20px",
    "top": "120px",
    "width": "250px"
   },
   "types_to_exclude": [
    "module",
    "function",
    "builtin_function_or_method",
    "instance",
    "_Feature"
   ],
   "varInspector_section_display": "none",
   "window_display": true
  }
 },
 "nbformat": 4,
 "nbformat_minor": 2
}
